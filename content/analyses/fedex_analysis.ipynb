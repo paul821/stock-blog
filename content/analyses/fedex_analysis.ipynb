{
  "cells": [
    {
      "cell_type": "markdown",
      "metadata": {
        }
    },
    {
      "cell_type": "markdown",
      "metadata": {
        "id": "m__pwJZAJxr1"
      },
      "source": [
        "# Executive Summary\n",
        "\n",
        "This report analyzes FedEx Corporation (FDX) as an investment opportunity using a long strangle options strategy. Based on anticipated volatility driven by tariff policies and potential USPS privatization, we implemented a strategy expecting significant stock price movement in either direction. The analysis covers a period when FedEx stock decreased 10.28% over 12 months but increased 4.84% in the past month, trading within a 52-week range of $189.30 to $313.84.\n",
        "\n",
        "\n",
        "Our investment thesis centers on two key catalysts: the impact of changing tariff policies on international shipping volumes and the potential privatization of the United States Postal Service under the Trump administration. These factors were expected to create substantial volatility in FedEx's stock price, making it suitable for a volatility-based options strategy."
      ],
      "id": "m__pwJZAJxr1"
    },
    {
      "cell_type": "markdown",
      "metadata": {
        "id": "31zkaFUFJxr3"
      },
      "source": [
        "# Industry Analysis\n",
        "\n",
        "The logistics and shipping industry is highly sensitive to macroeconomic and geopolitical factors. Key industry characteristics include:\n",
        "\n",
        "**Market Structure:** The industry is dominated by major players including FedEx, UPS, and the government-subsidized USPS, with increasing competition from Amazon Logistics in the ground delivery segment.\n",
        "\n",
        "**Geopolitical Sensitivity:** International shipping companies face significant exposure to trade policy changes, tariff implementations, and global supply chain disruptions. These factors can rapidly impact shipping volumes and pricing power.\n",
        "\n",
        "**Regulatory Environment:** The industry operates under complex regulatory frameworks, with potential changes in government postal service policies representing a significant structural shift that could reshape competitive dynamics."
      ],
      "id": "31zkaFUFJxr3"
    },
    {
      "cell_type": "markdown",
      "source": [
        "# Company Background\n",
        "\n",
        "FedEx Corporation Overview:\n",
        "\n",
        "*  Average 52-week stock price: $265.24\n",
        "*  Daily package volume: approximately 16 million packages\n",
        "*  Current stock performance: 10.28% decline over 12 months, 4.84% increase in past month\n",
        "\n",
        "Revenue Streams:\n",
        "\n",
        "* Express Services (47.6% of revenue): International and domestic overnight delivery services\n",
        "* Ground Services (37.6% of revenue): Residential and business deliveries\n",
        "* Other Services (14.8% of revenue): Freight, logistics, and specialized services\n",
        "\n",
        "Key Operational Characteristics:\n",
        "\n",
        "* Extensive global network with high exposure to international trade flows\n",
        "* Significant reliance on air freight operations with shorter-term contracts implemented in January 2025\n",
        "* Recent loss of 20+ year USPS contract to competitor UPS"
      ],
      "metadata": {
        "id": "wJWW1ELnKELx"
      },
      "id": "wJWW1ELnKELx"
    },
    {
      "cell_type": "markdown",
      "metadata": {
        "id": "n2ZTPkb9Jxr3"
      },
      "source": [
        "# Competitive Landscape\n",
        "\n",
        "United Parcel Service (UPS):\n",
        "\n",
        "* Recently won the lucrative USPS air freight contract previously held by FedEx\n",
        "* Strong competitive position in both domestic and international markets\n",
        "* Less exposed to geopolitical tensions compared to FedEx's international focus\n",
        "\n",
        "United States Postal Service (USPS):\n",
        "\n",
        "* Government-subsidized operations allowing below-market pricing\n",
        "* Ability to operate at a loss due to taxpayer funding\n",
        "* Potential privatization under Trump administration could level the competitive playing field\n",
        "\n",
        "Amazon Logistics:\n",
        "\n",
        "* Rapidly expanding ground delivery network\n",
        "* Increasing competitive pressure in the residential delivery segment\n",
        "* Vertically integrated model providing cost advantages\n",
        "\n",
        "Competitive Pressures:\n",
        "\n",
        "* USPS subsidies create unfair pricing competition\n",
        "* Amazon's expansion threatens ground services market share\n",
        "* UPS contract win represents significant revenue loss for FedEx"
      ],
      "id": "n2ZTPkb9Jxr3"
    },
    {
      "cell_type": "markdown",
      "source": [
        "# Key Investment Thesis\n",
        "\n",
        "Our investment thesis is built on two primary catalysts expected to drive significant volatility:\n",
        "\n",
        "**Catalyst 1: Tariff Impact**\n",
        "* Trade Flow Disruption: FedEx's 16 million daily package volume creates substantial negative exposure to global supply chain disruptions. Tariffs  directly impact international trade flows, reducing shipping volumes and pressuring air freight margins.\n",
        "* Contract Structure Risk: The January 2025 shift to shorter air freight contracts due to tariff uncertainty increases operational volatility and reduces predictable revenue streams.\n",
        "* Revenue Exposure: With 47.6% of total revenue from Express Services, FedEx faces significant exposure to price shocks and global trade disruptions.\n",
        "\n",
        "**Catalyst 2: USPS Privatization**\n",
        "* Market Structure Change: Trump administration signals regarding USPS privatization could eliminate unfair government subsidies that allow USPS to consistently undercut FedEx on pricing.\n",
        "* Contract Recovery Opportunity: Privatization creates potential for FedEx to reclaim the lost USPS air freight contract, reversing recent revenue losses.\n",
        "* Competitive Leveling: Removal of government subsidies would create a more level playing field in the shipping industry.\n"
      ],
      "metadata": {
        "id": "YCFFjin8KtgI"
      },
      "id": "YCFFjin8KtgI"
    },
    {
      "cell_type": "markdown",
      "metadata": {
        "id": "GmK81EfiJxr3"
      },
      "source": [
        "# Technical Analysis\n",
        "\n",
        "Options Strategy: Long Strangle\n",
        "* Strategy Rationale: Expected high volatility with uncertain directional bias led to selection of a long strangle strategy involving out-of-the-money puts and calls.\n",
        "\n",
        "Selected Position:\n",
        "\n",
        "* Put Strike: 195 (Implied Volatility: 38.14%)\n",
        "* Call Strike: 240 (Implied Volatility: 35.67%)\n",
        "* Total Premium: \\$1.81 per share (\\$181 per contract)\n",
        "* Strike Width: 45 points\n",
        "\n",
        "Volatility Analysis\n",
        "* Closing Price (May 9th): \\$217.83\n",
        "* One Standard Deviation Move: \\$217.83 * average (215P IV, 220C IV) * sqrt(21/252) ≈ \\$20\n",
        "* Expected Range: \\$197 to \\$237\n",
        "\n",
        "Implied Volatility Assessment:\n",
        "\n",
        "* 195P IV of 38.14% suggests higher probability of downward movement\n",
        "* 240C IV of 35.67% indicates moderate upward potential\n",
        "* IVs are elevated but not extremely inflated, suggesting reasonable entry point\n",
        "\n",
        "Alternative Strike Combinations Analyzed:\n",
        "\n",
        "* 250/190 strikes: \\$0.895 premium, 60-point width\n",
        "* 245/185 strikes: \\$1.010 premium, 60-point width\n",
        "* 240/180 strikes: \\$1.165 premium, 60-point width\n",
        "* 250/195 strikes: \\$1.220 premium, 55-point width"
      ],
      "id": "GmK81EfiJxr3"
    },
    {
      "cell_type": "markdown",
      "source": [
        "# Final Recommendation\n",
        "Strategy Implementation: Long strangle with 195 put and 240 call strikes, requiring stock movement beyond $193.19 (195-1.81) or $241.81 (240+1.81) to achieve profitability.\n",
        "\n",
        "Risk Assessment: Limited downside risk to premium paid ($1.81 per share), with unlimited upside potential in either direction.\n",
        "\n",
        "Catalyst Timeline: Position sized for volatility expected from tariff policy implementations and USPS privatization discussions during the early Trump administration period.\n",
        "\n",
        "Market Conditions: Moderate implied volatility levels suggest reasonable entry point without paying excessive time value."
      ],
      "metadata": {
        "id": "uXY6HJmaLxjh"
      },
      "id": "uXY6HJmaLxjh"
    },
    {
      "cell_type": "markdown",
      "metadata": {
        "id": "kKBRcpx5Jxr4"
      },
      "source": [
        "# Results\n",
        "\n",
        "Final Closing Price: \\$218.10\n",
        "* Position Outcome: Both options expired worthless as the closing price fell between the strike prices\n",
        "* Total Loss: -\\$1.81 per share (-\\$181 per contract)\n",
        "\n",
        "Analysis of Results:\n",
        "The position resulted in a total loss equal to the premium paid, as the stock price remained within the profitable range. However, the analysis revealed that FedEx maintained one of the highest implied volatilities in the equity market at position closing, suggesting traders expected significant price movement similar to our prediction.\n",
        "\n",
        "Key Insights:\n",
        "\n",
        "Timing Issue: The trade may have been executed too early relative to the expected catalysts\n",
        "Market Validation: High implied volatility at closing confirms market expectations aligned with our thesis\n",
        "Future Potential: The underlying catalysts remain valid for future trading opportunities\n",
        "\n",
        "Lessons Learned:\n",
        "The strategy was fundamentally sound given the identified catalysts, but the timing of implementation relative to when the catalysts would materially impact stock price was suboptimal. The sustained high implied volatility suggests the market continues to expect significant movement, validating the core investment thesis while highlighting the importance of catalyst timing in volatility-based strategies."
      ],
      "id": "kKBRcpx5Jxr4"
    },
    {
      "cell_type": "markdown",
      "source": [
        "# Next Steps\n",
        "\n",
        "Immediate Actions:\n",
        "\n",
        "* Catalyst Monitoring: Continue tracking Trump administration policy announcements regarding tariff implementations and USPS privatization timelines\n",
        "* Volatility Analysis: Monitor FedEx's implied volatility levels for future entry opportunities when IV levels become more attractive\n",
        "* Earnings Impact Assessment: Evaluate how tariff policies and competitive changes affect FedEx's quarterly earnings reports\n",
        "\n",
        "Future Strategy Considerations:\n",
        "\n",
        "* Extended Timeline Approach: Consider longer-dated options to allow more time for catalysts to materialize, reducing timing risk\n",
        "* Narrower Strike Spreads: Evaluate closer-to-the-money strikes to reduce the magnitude of movement required for profitability\n",
        "* Catalyst-Specific Timing: Wait for clearer policy implementation timelines before entering positions\n",
        "\n",
        "Research Priorities:\n",
        "\n",
        "* Policy Development Tracking: Monitor Congressional discussions and administrative actions regarding USPS privatization\n",
        "* Trade Policy Analysis: Follow tariff implementation schedules and their impact on shipping volumes\n",
        "* Competitive Landscape: Assess how Amazon Logistics expansion and UPS contract performance affect FedEx's market position\n",
        "\n",
        "Risk Management Improvements:\n",
        "\n",
        "* Position Sizing: Implement smaller position sizes to allow for multiple attempts at capturing volatility\n",
        "* Exit Strategy Definition: Establish clear criteria for early exit if catalysts are delayed beyond expected timeframes\n",
        "* Diversification: Consider similar volatility plays across multiple logistics companies to reduce single-stock risk\n",
        "\n",
        "Long-term Monitoring:\n",
        "The fundamental thesis remains valid as FedEx continues to exhibit high implied volatility, suggesting ongoing market expectations for significant price movement. Future opportunities may present themselves as policy clarity emerges and implementation timelines become more definitive."
      ],
      "metadata": {
        "id": "lXV9UkqTMG99"
      },
      "id": "lXV9UkqTMG99"
    }
  ],
  "metadata": {
    "title": "FedEx Corporation (FDX) - Options Strategy Analysis",
    "company": "FedEx Corporation",
    "ticker": "FDX",
    "industry": "Logistics",
    "date": "2025-06-14",
    "summary": "Analysis of FedEx using long strangle options strategy based on anticipated volatility from tariff policies and potential USPS privatization. Strategy focused on capturing significant price movement in either direction.",
    "prediction": "neutral",
    "targetPrice": 218,
    "currentPrice": 217.83,
    "tags": [
      "logistics",
      "shipping",
      "options",
      "volatility"],
  
    "colab": {
      "provenance": [],
      "include_colab_link": true
    }
  },
  "nbformat": 4,
  "nbformat_minor": 5
}
